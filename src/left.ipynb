{
 "cells": [
  {
   "cell_type": "code",
   "execution_count": 43,
   "metadata": {},
   "outputs": [],
   "source": [
    "from flask import Flask\n",
    "from flask import render_template,request\n",
    "from datetime import datetime\n",
    "import mysql.connector\n",
    "import pandas as pd\n",
    "from sklearn import linear_model\n",
    "from sklearn.model_selection import train_test_split\n",
    "from sklearn.preprocessing import StandardScaler"
   ]
  },
  {
   "cell_type": "code",
   "execution_count": null,
   "metadata": {},
   "outputs": [],
   "source": [
    "def item_call(item_id,db):\n",
    "    results=db.execute(f'call item_call({item_id})',multi=True)\n",
    "    data=[]\n",
    "    try:\n",
    "        for i in results:\n",
    "            data=i.fetchall()\n",
    "    except:\n",
    "        pass\n",
    "    data=pd.DataFrame(data,columns=['order_date','order_hour','quantity'])\n",
    "    data['order_day']=list(map((lambda x:x.weekday()),data['order_date'].to_list()))\n",
    "    return data"
   ]
  },
  {
   "cell_type": "code",
   "execution_count": null,
   "metadata": {},
   "outputs": [],
   "source": [
    "def predict(data,day,time):\n",
    "    scaler=StandardScaler()\n",
    "    data[['order_day','order_hour']]=scaler.fit_transform(data[['order_day','order_hour']])\n",
    "    x_train,x_test,y_train,y_test=train_test_split(data[['order_day','order_hour']],data['quantity'],test_size=0.0,shuffle=True)\n",
    "    linear=linear_model.LinearRegression()\n",
    "    reg=linear.fit(x_train,y_train)\n",
    "    result=reg.predict([day,time])\n",
    "    result=result.round()\n",
    "    return result"
   ]
  },
  {
   "cell_type": "code",
   "execution_count": 44,
   "metadata": {},
   "outputs": [],
   "source": [
    "mydb=mysql.connector.connect(host=\"127.0.0.1\",user=\"root\", passwd=\"Govinda457\", database='leftovers1')\n",
    "my=mydb.cursor()"
   ]
  },
  {
   "cell_type": "code",
   "execution_count": 45,
   "metadata": {},
   "outputs": [
    {
     "data": {
      "text/plain": [
       "()"
      ]
     },
     "execution_count": 45,
     "metadata": {},
     "output_type": "execute_result"
    }
   ],
   "source": [
    "my.callproc('total_orders')"
   ]
  },
  {
   "cell_type": "code",
   "execution_count": null,
   "metadata": {},
   "outputs": [
    {
     "name": "stdout",
     "output_type": "stream",
     "text": [
      " * Serving Flask app '__main__' (lazy loading)\n",
      " * Environment: production\n",
      "\u001b[31m   WARNING: This is a development server. Do not use it in a production deployment.\u001b[0m\n",
      "\u001b[2m   Use a production WSGI server instead.\u001b[0m\n",
      " * Debug mode: on\n"
     ]
    },
    {
     "name": "stderr",
     "output_type": "stream",
     "text": [
      " * Running on http://127.0.0.1:5000/ (Press CTRL+C to quit)\n",
      "127.0.0.1 - - [30/Jan/2023 14:15:30] \"GET / HTTP/1.1\" 200 -\n",
      "127.0.0.1 - - [30/Jan/2023 14:15:31] \"GET /static/style2.css HTTP/1.1\" 200 -\n",
      "127.0.0.1 - - [30/Jan/2023 14:15:32] \"GET /static/minimal-geometric-stripe-shape-background_1409-1014.webp HTTP/1.1\" 304 -\n",
      "127.0.0.1 - - [30/Jan/2023 14:15:32] \"GET /favicon.ico HTTP/1.1\" 404 -\n"
     ]
    }
   ],
   "source": [
    "app =Flask(__name__, template_folder='template') \n",
    "\n",
    "@app.route(\"/\",methods = ['POST','GET'])  \n",
    "def result():\n",
    "  if request.method=='POST':\n",
    "    date=request.form['mydate']\n",
    "    time=request.form['mytime']\n",
    "    item_id=request.form['item_id']\n",
    "    day= datetime.strptime(date,'%Y-%m-%d').weekday()\n",
    "    data=item_call(item_id,my)\n",
    "    result=predict(data)\n",
    "    return render_template('input.html', msg1 =result)  \n",
    "  return render_template('input.html', message = \"\")\n",
    "\n",
    "if __name__ =='__main__':  \n",
    "    app.run(debug = True, use_reloader=False)"
   ]
  }
 ],
 "metadata": {
  "kernelspec": {
   "display_name": "Python 3",
   "language": "python",
   "name": "python3"
  },
  "language_info": {
   "codemirror_mode": {
    "name": "ipython",
    "version": 3
   },
   "file_extension": ".py",
   "mimetype": "text/x-python",
   "name": "python",
   "nbconvert_exporter": "python",
   "pygments_lexer": "ipython3",
   "version": "3.12.4"
  },
  "orig_nbformat": 4,
  "vscode": {
   "interpreter": {
    "hash": "bc557b74f5c7d96f3a4fff2167a95a4252e316909755ef10c67da981ac2e9136"
   }
  }
 },
 "nbformat": 4,
 "nbformat_minor": 2
}
